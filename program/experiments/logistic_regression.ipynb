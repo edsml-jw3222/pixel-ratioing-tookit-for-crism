{
 "cells": [
  {
   "cell_type": "code",
   "execution_count": 1,
   "metadata": {},
   "outputs": [],
   "source": [
    "import gc\n",
    "import numpy as np\n",
    "import pandas as pd\n",
    "import matplotlib.pyplot as plt\n",
    "\n",
    "from joblib import dump, load\n",
    "from sklearn.utils import shuffle\n",
    "from sklearn.preprocessing import MinMaxScaler\n",
    "from sklearn.metrics import classification_report\n",
    "from sklearn.linear_model import LogisticRegression\n",
    "from sklearn.model_selection import GroupKFold, train_test_split, cross_val_predict"
   ]
  },
  {
   "cell_type": "code",
   "execution_count": 3,
   "metadata": {},
   "outputs": [],
   "source": [
    "def compute_avg_classification_report(model, X_train, y_train, groups):\n",
    "    cv = GroupKFold(n_splits=5)\n",
    "    \n",
    "    # Get cross-validation predictions for entire dataset\n",
    "    y_pred = cross_val_predict(model, X_train, y_train, groups=groups, cv=cv, n_jobs=-1)\n",
    "\n",
    "    # Compute classification report\n",
    "    report = classification_report(y_train, y_pred, output_dict=True)\n",
    "    \n",
    "    return report"
   ]
  },
  {
   "cell_type": "code",
   "execution_count": 4,
   "metadata": {},
   "outputs": [
    {
     "data": {
      "text/html": [
       "<div>\n",
       "<style scoped>\n",
       "    .dataframe tbody tr th:only-of-type {\n",
       "        vertical-align: middle;\n",
       "    }\n",
       "\n",
       "    .dataframe tbody tr th {\n",
       "        vertical-align: top;\n",
       "    }\n",
       "\n",
       "    .dataframe thead th {\n",
       "        text-align: right;\n",
       "    }\n",
       "</style>\n",
       "<table border=\"1\" class=\"dataframe\">\n",
       "  <thead>\n",
       "    <tr style=\"text-align: right;\">\n",
       "      <th></th>\n",
       "      <th>image_id</th>\n",
       "      <th>x</th>\n",
       "      <th>y</th>\n",
       "      <th>0</th>\n",
       "      <th>1</th>\n",
       "      <th>2</th>\n",
       "      <th>3</th>\n",
       "      <th>4</th>\n",
       "      <th>5</th>\n",
       "      <th>6</th>\n",
       "      <th>...</th>\n",
       "      <th>429</th>\n",
       "      <th>430</th>\n",
       "      <th>431</th>\n",
       "      <th>432</th>\n",
       "      <th>433</th>\n",
       "      <th>434</th>\n",
       "      <th>435</th>\n",
       "      <th>436</th>\n",
       "      <th>437</th>\n",
       "      <th>label</th>\n",
       "    </tr>\n",
       "  </thead>\n",
       "  <tbody>\n",
       "    <tr>\n",
       "      <th>0</th>\n",
       "      <td>129D1</td>\n",
       "      <td>42</td>\n",
       "      <td>234</td>\n",
       "      <td>0.183240</td>\n",
       "      <td>0.183240</td>\n",
       "      <td>0.177040</td>\n",
       "      <td>0.181723</td>\n",
       "      <td>0.176845</td>\n",
       "      <td>0.182095</td>\n",
       "      <td>0.176937</td>\n",
       "      <td>...</td>\n",
       "      <td>0.390600</td>\n",
       "      <td>0.394394</td>\n",
       "      <td>0.398004</td>\n",
       "      <td>0.402821</td>\n",
       "      <td>0.183240</td>\n",
       "      <td>0.183240</td>\n",
       "      <td>0.183240</td>\n",
       "      <td>0.183240</td>\n",
       "      <td>0.0</td>\n",
       "      <td>1</td>\n",
       "    </tr>\n",
       "    <tr>\n",
       "      <th>1</th>\n",
       "      <td>129D1</td>\n",
       "      <td>33</td>\n",
       "      <td>156</td>\n",
       "      <td>0.183240</td>\n",
       "      <td>0.183240</td>\n",
       "      <td>0.179713</td>\n",
       "      <td>0.177953</td>\n",
       "      <td>0.174137</td>\n",
       "      <td>0.177956</td>\n",
       "      <td>0.171644</td>\n",
       "      <td>...</td>\n",
       "      <td>0.415097</td>\n",
       "      <td>0.417611</td>\n",
       "      <td>0.421339</td>\n",
       "      <td>0.430918</td>\n",
       "      <td>0.183240</td>\n",
       "      <td>0.183240</td>\n",
       "      <td>0.183240</td>\n",
       "      <td>0.183240</td>\n",
       "      <td>0.0</td>\n",
       "      <td>1</td>\n",
       "    </tr>\n",
       "    <tr>\n",
       "      <th>2</th>\n",
       "      <td>129D1</td>\n",
       "      <td>78</td>\n",
       "      <td>78</td>\n",
       "      <td>0.183240</td>\n",
       "      <td>0.183240</td>\n",
       "      <td>0.177950</td>\n",
       "      <td>0.170932</td>\n",
       "      <td>0.168615</td>\n",
       "      <td>0.170199</td>\n",
       "      <td>0.166566</td>\n",
       "      <td>...</td>\n",
       "      <td>0.401058</td>\n",
       "      <td>0.406532</td>\n",
       "      <td>0.407522</td>\n",
       "      <td>0.410457</td>\n",
       "      <td>0.419562</td>\n",
       "      <td>0.183240</td>\n",
       "      <td>0.183240</td>\n",
       "      <td>0.183240</td>\n",
       "      <td>0.0</td>\n",
       "      <td>1</td>\n",
       "    </tr>\n",
       "    <tr>\n",
       "      <th>3</th>\n",
       "      <td>129D1</td>\n",
       "      <td>42</td>\n",
       "      <td>147</td>\n",
       "      <td>0.183240</td>\n",
       "      <td>0.183240</td>\n",
       "      <td>0.179855</td>\n",
       "      <td>0.182989</td>\n",
       "      <td>0.178902</td>\n",
       "      <td>0.182606</td>\n",
       "      <td>0.177878</td>\n",
       "      <td>...</td>\n",
       "      <td>0.423789</td>\n",
       "      <td>0.430713</td>\n",
       "      <td>0.436174</td>\n",
       "      <td>0.441805</td>\n",
       "      <td>0.183240</td>\n",
       "      <td>0.183240</td>\n",
       "      <td>0.183240</td>\n",
       "      <td>0.183240</td>\n",
       "      <td>0.0</td>\n",
       "      <td>1</td>\n",
       "    </tr>\n",
       "    <tr>\n",
       "      <th>4</th>\n",
       "      <td>129D1</td>\n",
       "      <td>42</td>\n",
       "      <td>235</td>\n",
       "      <td>0.183240</td>\n",
       "      <td>0.183240</td>\n",
       "      <td>0.172990</td>\n",
       "      <td>0.176540</td>\n",
       "      <td>0.171127</td>\n",
       "      <td>0.176303</td>\n",
       "      <td>0.171870</td>\n",
       "      <td>...</td>\n",
       "      <td>0.377796</td>\n",
       "      <td>0.379615</td>\n",
       "      <td>0.383085</td>\n",
       "      <td>0.388312</td>\n",
       "      <td>0.183240</td>\n",
       "      <td>0.183240</td>\n",
       "      <td>0.183240</td>\n",
       "      <td>0.183240</td>\n",
       "      <td>0.0</td>\n",
       "      <td>1</td>\n",
       "    </tr>\n",
       "    <tr>\n",
       "      <th>...</th>\n",
       "      <td>...</td>\n",
       "      <td>...</td>\n",
       "      <td>...</td>\n",
       "      <td>...</td>\n",
       "      <td>...</td>\n",
       "      <td>...</td>\n",
       "      <td>...</td>\n",
       "      <td>...</td>\n",
       "      <td>...</td>\n",
       "      <td>...</td>\n",
       "      <td>...</td>\n",
       "      <td>...</td>\n",
       "      <td>...</td>\n",
       "      <td>...</td>\n",
       "      <td>...</td>\n",
       "      <td>...</td>\n",
       "      <td>...</td>\n",
       "      <td>...</td>\n",
       "      <td>...</td>\n",
       "      <td>...</td>\n",
       "      <td>...</td>\n",
       "    </tr>\n",
       "    <tr>\n",
       "      <th>586594</th>\n",
       "      <td>05814</td>\n",
       "      <td>59</td>\n",
       "      <td>147</td>\n",
       "      <td>0.161424</td>\n",
       "      <td>0.161424</td>\n",
       "      <td>0.165725</td>\n",
       "      <td>0.164123</td>\n",
       "      <td>0.161058</td>\n",
       "      <td>0.160869</td>\n",
       "      <td>0.160224</td>\n",
       "      <td>...</td>\n",
       "      <td>0.358010</td>\n",
       "      <td>0.359653</td>\n",
       "      <td>0.364118</td>\n",
       "      <td>0.368421</td>\n",
       "      <td>0.161424</td>\n",
       "      <td>0.161424</td>\n",
       "      <td>0.161424</td>\n",
       "      <td>0.161424</td>\n",
       "      <td>0.0</td>\n",
       "      <td>0</td>\n",
       "    </tr>\n",
       "    <tr>\n",
       "      <th>586595</th>\n",
       "      <td>05814</td>\n",
       "      <td>52</td>\n",
       "      <td>148</td>\n",
       "      <td>0.161424</td>\n",
       "      <td>0.161424</td>\n",
       "      <td>0.172172</td>\n",
       "      <td>0.170590</td>\n",
       "      <td>0.168009</td>\n",
       "      <td>0.167722</td>\n",
       "      <td>0.166930</td>\n",
       "      <td>...</td>\n",
       "      <td>0.395572</td>\n",
       "      <td>0.396083</td>\n",
       "      <td>0.399904</td>\n",
       "      <td>0.405905</td>\n",
       "      <td>0.161424</td>\n",
       "      <td>0.161424</td>\n",
       "      <td>0.161424</td>\n",
       "      <td>0.161424</td>\n",
       "      <td>0.0</td>\n",
       "      <td>0</td>\n",
       "    </tr>\n",
       "    <tr>\n",
       "      <th>586596</th>\n",
       "      <td>05814</td>\n",
       "      <td>57</td>\n",
       "      <td>148</td>\n",
       "      <td>0.161424</td>\n",
       "      <td>0.161424</td>\n",
       "      <td>0.166005</td>\n",
       "      <td>0.164945</td>\n",
       "      <td>0.161472</td>\n",
       "      <td>0.161788</td>\n",
       "      <td>0.160700</td>\n",
       "      <td>...</td>\n",
       "      <td>0.364860</td>\n",
       "      <td>0.364178</td>\n",
       "      <td>0.365183</td>\n",
       "      <td>0.368164</td>\n",
       "      <td>0.161424</td>\n",
       "      <td>0.161424</td>\n",
       "      <td>0.161424</td>\n",
       "      <td>0.161424</td>\n",
       "      <td>0.0</td>\n",
       "      <td>0</td>\n",
       "    </tr>\n",
       "    <tr>\n",
       "      <th>586597</th>\n",
       "      <td>05814</td>\n",
       "      <td>57</td>\n",
       "      <td>149</td>\n",
       "      <td>0.161424</td>\n",
       "      <td>0.161424</td>\n",
       "      <td>0.161848</td>\n",
       "      <td>0.160963</td>\n",
       "      <td>0.157673</td>\n",
       "      <td>0.158131</td>\n",
       "      <td>0.156798</td>\n",
       "      <td>...</td>\n",
       "      <td>0.362013</td>\n",
       "      <td>0.361641</td>\n",
       "      <td>0.362803</td>\n",
       "      <td>0.366092</td>\n",
       "      <td>0.161424</td>\n",
       "      <td>0.161424</td>\n",
       "      <td>0.161424</td>\n",
       "      <td>0.161424</td>\n",
       "      <td>0.0</td>\n",
       "      <td>0</td>\n",
       "    </tr>\n",
       "    <tr>\n",
       "      <th>586598</th>\n",
       "      <td>05814</td>\n",
       "      <td>56</td>\n",
       "      <td>150</td>\n",
       "      <td>0.161424</td>\n",
       "      <td>0.161424</td>\n",
       "      <td>0.159009</td>\n",
       "      <td>0.158465</td>\n",
       "      <td>0.155250</td>\n",
       "      <td>0.155157</td>\n",
       "      <td>0.154144</td>\n",
       "      <td>...</td>\n",
       "      <td>0.366832</td>\n",
       "      <td>0.366182</td>\n",
       "      <td>0.366938</td>\n",
       "      <td>0.371395</td>\n",
       "      <td>0.161424</td>\n",
       "      <td>0.161424</td>\n",
       "      <td>0.161424</td>\n",
       "      <td>0.161424</td>\n",
       "      <td>0.0</td>\n",
       "      <td>0</td>\n",
       "    </tr>\n",
       "  </tbody>\n",
       "</table>\n",
       "<p>909499 rows × 442 columns</p>\n",
       "</div>"
      ],
      "text/plain": [
       "       image_id   x    y         0         1         2         3         4  \\\n",
       "0         129D1  42  234  0.183240  0.183240  0.177040  0.181723  0.176845   \n",
       "1         129D1  33  156  0.183240  0.183240  0.179713  0.177953  0.174137   \n",
       "2         129D1  78   78  0.183240  0.183240  0.177950  0.170932  0.168615   \n",
       "3         129D1  42  147  0.183240  0.183240  0.179855  0.182989  0.178902   \n",
       "4         129D1  42  235  0.183240  0.183240  0.172990  0.176540  0.171127   \n",
       "...         ...  ..  ...       ...       ...       ...       ...       ...   \n",
       "586594    05814  59  147  0.161424  0.161424  0.165725  0.164123  0.161058   \n",
       "586595    05814  52  148  0.161424  0.161424  0.172172  0.170590  0.168009   \n",
       "586596    05814  57  148  0.161424  0.161424  0.166005  0.164945  0.161472   \n",
       "586597    05814  57  149  0.161424  0.161424  0.161848  0.160963  0.157673   \n",
       "586598    05814  56  150  0.161424  0.161424  0.159009  0.158465  0.155250   \n",
       "\n",
       "               5         6  ...       429       430       431       432  \\\n",
       "0       0.182095  0.176937  ...  0.390600  0.394394  0.398004  0.402821   \n",
       "1       0.177956  0.171644  ...  0.415097  0.417611  0.421339  0.430918   \n",
       "2       0.170199  0.166566  ...  0.401058  0.406532  0.407522  0.410457   \n",
       "3       0.182606  0.177878  ...  0.423789  0.430713  0.436174  0.441805   \n",
       "4       0.176303  0.171870  ...  0.377796  0.379615  0.383085  0.388312   \n",
       "...          ...       ...  ...       ...       ...       ...       ...   \n",
       "586594  0.160869  0.160224  ...  0.358010  0.359653  0.364118  0.368421   \n",
       "586595  0.167722  0.166930  ...  0.395572  0.396083  0.399904  0.405905   \n",
       "586596  0.161788  0.160700  ...  0.364860  0.364178  0.365183  0.368164   \n",
       "586597  0.158131  0.156798  ...  0.362013  0.361641  0.362803  0.366092   \n",
       "586598  0.155157  0.154144  ...  0.366832  0.366182  0.366938  0.371395   \n",
       "\n",
       "             433       434       435       436  437  label  \n",
       "0       0.183240  0.183240  0.183240  0.183240  0.0      1  \n",
       "1       0.183240  0.183240  0.183240  0.183240  0.0      1  \n",
       "2       0.419562  0.183240  0.183240  0.183240  0.0      1  \n",
       "3       0.183240  0.183240  0.183240  0.183240  0.0      1  \n",
       "4       0.183240  0.183240  0.183240  0.183240  0.0      1  \n",
       "...          ...       ...       ...       ...  ...    ...  \n",
       "586594  0.161424  0.161424  0.161424  0.161424  0.0      0  \n",
       "586595  0.161424  0.161424  0.161424  0.161424  0.0      0  \n",
       "586596  0.161424  0.161424  0.161424  0.161424  0.0      0  \n",
       "586597  0.161424  0.161424  0.161424  0.161424  0.0      0  \n",
       "586598  0.161424  0.161424  0.161424  0.161424  0.0      0  \n",
       "\n",
       "[909499 rows x 442 columns]"
      ]
     },
     "execution_count": 4,
     "metadata": {},
     "output_type": "execute_result"
    }
   ],
   "source": [
    "df_data = pd.read_pickle('df_data.pkl')\n",
    "df_data"
   ]
  },
  {
   "cell_type": "code",
   "execution_count": 5,
   "metadata": {},
   "outputs": [
    {
     "name": "stdout",
     "output_type": "stream",
     "text": [
      "Number of duplicate rows: 46\n"
     ]
    }
   ],
   "source": [
    "feature_columns = list(range(0, 438))\n",
    "duplicates = df_data.duplicated(subset=feature_columns, keep=False)\n",
    "\n",
    "num_duplicates = duplicates.sum()\n",
    "print(f'Number of duplicate rows: {num_duplicates}')"
   ]
  },
  {
   "cell_type": "code",
   "execution_count": 6,
   "metadata": {},
   "outputs": [
    {
     "name": "stdout",
     "output_type": "stream",
     "text": [
      "Number of duplicate rows: 0\n"
     ]
    }
   ],
   "source": [
    "df_data = df_data[~duplicates]\n",
    "\n",
    "duplicates = df_data.duplicated(subset=feature_columns, keep=False)\n",
    "\n",
    "num_duplicates = duplicates.sum()\n",
    "print(f'Number of duplicate rows: {num_duplicates}')"
   ]
  },
  {
   "cell_type": "code",
   "execution_count": 7,
   "metadata": {},
   "outputs": [
    {
     "name": "stdout",
     "output_type": "stream",
     "text": [
      "Number of zero coordinates rows: 0\n"
     ]
    }
   ],
   "source": [
    "zero_coordinates = df_data[(df_data['x'] == 0) | (df_data['y'] == 0)]\n",
    "\n",
    "num_zero_coordinates = len(zero_coordinates)\n",
    "\n",
    "print(f'Number of zero coordinates rows: {num_zero_coordinates}')"
   ]
  },
  {
   "cell_type": "code",
   "execution_count": 8,
   "metadata": {},
   "outputs": [
    {
     "name": "stdout",
     "output_type": "stream",
     "text": [
      "Number of missing values: 0\n"
     ]
    }
   ],
   "source": [
    "missing_count = df_data.isnull().sum().sum()\n",
    "\n",
    "print(f'Number of missing values: {missing_count}')"
   ]
  },
  {
   "cell_type": "code",
   "execution_count": 9,
   "metadata": {},
   "outputs": [
    {
     "name": "stdout",
     "output_type": "stream",
     "text": [
      "Number of constant features: 1\n"
     ]
    }
   ],
   "source": [
    "constant_features = [col for col in df_data.columns if df_data[col].nunique() == 1]\n",
    "\n",
    "print(f'Number of constant features: {len(constant_features)}')"
   ]
  },
  {
   "cell_type": "code",
   "execution_count": 10,
   "metadata": {},
   "outputs": [
    {
     "name": "stdout",
     "output_type": "stream",
     "text": [
      "Number of images: 337\n"
     ]
    }
   ],
   "source": [
    "num_unique_elements = df_data['image_id'].nunique()\n",
    "print(f'Number of images: {num_unique_elements}')"
   ]
  },
  {
   "cell_type": "code",
   "execution_count": 11,
   "metadata": {},
   "outputs": [],
   "source": [
    "remove = ['0AA7D', '040FF', '09E4C', '0A425']\n",
    "\n",
    "df_data = df_data[~df_data['image_id'].isin(remove)]"
   ]
  },
  {
   "cell_type": "code",
   "execution_count": 12,
   "metadata": {},
   "outputs": [
    {
     "name": "stdout",
     "output_type": "stream",
     "text": [
      "Number of images: 333\n"
     ]
    }
   ],
   "source": [
    "num_unique_elements = df_data['image_id'].nunique()\n",
    "print(f'Number of images: {num_unique_elements}')"
   ]
  },
  {
   "cell_type": "code",
   "execution_count": 13,
   "metadata": {},
   "outputs": [],
   "source": [
    "features = df_data.columns[3:-1]\n",
    "label = df_data.columns[-1]\n",
    "\n",
    "scaler = MinMaxScaler()\n",
    "X_data = scaler.fit_transform(df_data[features])\n",
    "\n",
    "y_data = df_data[label].values\n",
    "\n",
    "groups = df_data[\"image_id\"].values\n",
    "X_data, y_data, groups = shuffle(X_data, y_data, groups)"
   ]
  },
  {
   "cell_type": "code",
   "execution_count": 14,
   "metadata": {},
   "outputs": [
    {
     "name": "stdout",
     "output_type": "stream",
     "text": [
      "Number of zeros: 572522\n",
      "Number of ones: 318877\n"
     ]
    }
   ],
   "source": [
    "counts = np.bincount(y_data)\n",
    "num_zeros = counts[0]\n",
    "num_ones = counts[1]\n",
    "\n",
    "print(f\"Number of zeros: {num_zeros}\")\n",
    "print(f\"Number of ones: {num_ones}\")"
   ]
  },
  {
   "cell_type": "code",
   "execution_count": 15,
   "metadata": {},
   "outputs": [
    {
     "data": {
      "text/html": [
       "<style>#sk-container-id-1 {color: black;}#sk-container-id-1 pre{padding: 0;}#sk-container-id-1 div.sk-toggleable {background-color: white;}#sk-container-id-1 label.sk-toggleable__label {cursor: pointer;display: block;width: 100%;margin-bottom: 0;padding: 0.3em;box-sizing: border-box;text-align: center;}#sk-container-id-1 label.sk-toggleable__label-arrow:before {content: \"▸\";float: left;margin-right: 0.25em;color: #696969;}#sk-container-id-1 label.sk-toggleable__label-arrow:hover:before {color: black;}#sk-container-id-1 div.sk-estimator:hover label.sk-toggleable__label-arrow:before {color: black;}#sk-container-id-1 div.sk-toggleable__content {max-height: 0;max-width: 0;overflow: hidden;text-align: left;background-color: #f0f8ff;}#sk-container-id-1 div.sk-toggleable__content pre {margin: 0.2em;color: black;border-radius: 0.25em;background-color: #f0f8ff;}#sk-container-id-1 input.sk-toggleable__control:checked~div.sk-toggleable__content {max-height: 200px;max-width: 100%;overflow: auto;}#sk-container-id-1 input.sk-toggleable__control:checked~label.sk-toggleable__label-arrow:before {content: \"▾\";}#sk-container-id-1 div.sk-estimator input.sk-toggleable__control:checked~label.sk-toggleable__label {background-color: #d4ebff;}#sk-container-id-1 div.sk-label input.sk-toggleable__control:checked~label.sk-toggleable__label {background-color: #d4ebff;}#sk-container-id-1 input.sk-hidden--visually {border: 0;clip: rect(1px 1px 1px 1px);clip: rect(1px, 1px, 1px, 1px);height: 1px;margin: -1px;overflow: hidden;padding: 0;position: absolute;width: 1px;}#sk-container-id-1 div.sk-estimator {font-family: monospace;background-color: #f0f8ff;border: 1px dotted black;border-radius: 0.25em;box-sizing: border-box;margin-bottom: 0.5em;}#sk-container-id-1 div.sk-estimator:hover {background-color: #d4ebff;}#sk-container-id-1 div.sk-parallel-item::after {content: \"\";width: 100%;border-bottom: 1px solid gray;flex-grow: 1;}#sk-container-id-1 div.sk-label:hover label.sk-toggleable__label {background-color: #d4ebff;}#sk-container-id-1 div.sk-serial::before {content: \"\";position: absolute;border-left: 1px solid gray;box-sizing: border-box;top: 0;bottom: 0;left: 50%;z-index: 0;}#sk-container-id-1 div.sk-serial {display: flex;flex-direction: column;align-items: center;background-color: white;padding-right: 0.2em;padding-left: 0.2em;position: relative;}#sk-container-id-1 div.sk-item {position: relative;z-index: 1;}#sk-container-id-1 div.sk-parallel {display: flex;align-items: stretch;justify-content: center;background-color: white;position: relative;}#sk-container-id-1 div.sk-item::before, #sk-container-id-1 div.sk-parallel-item::before {content: \"\";position: absolute;border-left: 1px solid gray;box-sizing: border-box;top: 0;bottom: 0;left: 50%;z-index: -1;}#sk-container-id-1 div.sk-parallel-item {display: flex;flex-direction: column;z-index: 1;position: relative;background-color: white;}#sk-container-id-1 div.sk-parallel-item:first-child::after {align-self: flex-end;width: 50%;}#sk-container-id-1 div.sk-parallel-item:last-child::after {align-self: flex-start;width: 50%;}#sk-container-id-1 div.sk-parallel-item:only-child::after {width: 0;}#sk-container-id-1 div.sk-dashed-wrapped {border: 1px dashed gray;margin: 0 0.4em 0.5em 0.4em;box-sizing: border-box;padding-bottom: 0.4em;background-color: white;}#sk-container-id-1 div.sk-label label {font-family: monospace;font-weight: bold;display: inline-block;line-height: 1.2em;}#sk-container-id-1 div.sk-label-container {text-align: center;}#sk-container-id-1 div.sk-container {/* jupyter's `normalize.less` sets `[hidden] { display: none; }` but bootstrap.min.css set `[hidden] { display: none !important; }` so we also need the `!important` here to be able to override the default hidden behavior on the sphinx rendered scikit-learn.org. See: https://github.com/scikit-learn/scikit-learn/issues/21755 */display: inline-block !important;position: relative;}#sk-container-id-1 div.sk-text-repr-fallback {display: none;}</style><div id=\"sk-container-id-1\" class=\"sk-top-container\"><div class=\"sk-text-repr-fallback\"><pre>LogisticRegression(n_jobs=-1, solver=&#x27;newton-cg&#x27;)</pre><b>In a Jupyter environment, please rerun this cell to show the HTML representation or trust the notebook. <br />On GitHub, the HTML representation is unable to render, please try loading this page with nbviewer.org.</b></div><div class=\"sk-container\" hidden><div class=\"sk-item\"><div class=\"sk-estimator sk-toggleable\"><input class=\"sk-toggleable__control sk-hidden--visually\" id=\"sk-estimator-id-1\" type=\"checkbox\" checked><label for=\"sk-estimator-id-1\" class=\"sk-toggleable__label sk-toggleable__label-arrow\">LogisticRegression</label><div class=\"sk-toggleable__content\"><pre>LogisticRegression(n_jobs=-1, solver=&#x27;newton-cg&#x27;)</pre></div></div></div></div></div>"
      ],
      "text/plain": [
       "LogisticRegression(n_jobs=-1, solver='newton-cg')"
      ]
     },
     "execution_count": 15,
     "metadata": {},
     "output_type": "execute_result"
    }
   ],
   "source": [
    "lr = LogisticRegression(solver='newton-cg', n_jobs=-1)\n",
    "\n",
    "lr.fit(X_data, y_data)"
   ]
  },
  {
   "cell_type": "code",
   "execution_count": 16,
   "metadata": {},
   "outputs": [
    {
     "data": {
      "text/plain": [
       "['min_max_scaler.joblib']"
      ]
     },
     "execution_count": 16,
     "metadata": {},
     "output_type": "execute_result"
    }
   ],
   "source": [
    "# Save the model and scaler\n",
    "dump(lr, 'logistic_regression_model.joblib')\n",
    "dump(scaler, 'min_max_scaler.joblib')"
   ]
  },
  {
   "cell_type": "code",
   "execution_count": null,
   "metadata": {},
   "outputs": [],
   "source": [
    "report = compute_avg_classification_report(lr, X_data, y_data, groups)"
   ]
  },
  {
   "cell_type": "code",
   "execution_count": 14,
   "metadata": {},
   "outputs": [
    {
     "data": {
      "text/plain": [
       "{'0': {'precision': 0.9351687901419777,\n",
       "  'recall': 0.8841803960612095,\n",
       "  'f1-score': 0.9089601023510958,\n",
       "  'support': 586576},\n",
       " '1': {'precision': 0.8085521291555238,\n",
       "  'recall': 0.8886418047739542,\n",
       "  'f1-score': 0.846707272448269,\n",
       "  'support': 322877},\n",
       " 'accuracy': 0.8857643000792784,\n",
       " 'macro avg': {'precision': 0.8718604596487507,\n",
       "  'recall': 0.8864111004175819,\n",
       "  'f1-score': 0.8778336873996824,\n",
       "  'support': 909453},\n",
       " 'weighted avg': {'precision': 0.8902169260551879,\n",
       "  'recall': 0.8857643000792784,\n",
       "  'f1-score': 0.886858897604358,\n",
       "  'support': 909453}}"
      ]
     },
     "execution_count": 14,
     "metadata": {},
     "output_type": "execute_result"
    }
   ],
   "source": [
    "report"
   ]
  },
  {
   "cell_type": "code",
   "execution_count": null,
   "metadata": {},
   "outputs": [],
   "source": []
  }
 ],
 "metadata": {
  "kernelspec": {
   "display_name": "Python 3 (ipykernel)",
   "language": "python",
   "name": "python3"
  },
  "language_info": {
   "codemirror_mode": {
    "name": "ipython",
    "version": 3
   },
   "file_extension": ".py",
   "mimetype": "text/x-python",
   "name": "python",
   "nbconvert_exporter": "python",
   "pygments_lexer": "ipython3",
   "version": "3.11.5"
  }
 },
 "nbformat": 4,
 "nbformat_minor": 4
}
