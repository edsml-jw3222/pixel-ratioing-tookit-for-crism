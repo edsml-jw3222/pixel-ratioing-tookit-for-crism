{
 "cells": [
  {
   "cell_type": "code",
   "execution_count": 1,
   "metadata": {},
   "outputs": [],
   "source": [
    "import numpy as np\n",
    "import pandas as pd\n",
    "\n",
    "from collections import Counter\n",
    "from sklearn.utils import shuffle\n",
    "from sklearn.preprocessing import MinMaxScaler\n",
    "from sklearn.neighbors import KNeighborsClassifier\n",
    "from sklearn.ensemble import RandomForestClassifier\n",
    "from sklearn.linear_model import LogisticRegression\n",
    "from imblearn.under_sampling import RandomUnderSampler\n",
    "from sklearn.model_selection import train_test_split\n",
    "from sklearn.metrics import confusion_matrix, classification_report"
   ]
  },
  {
   "cell_type": "code",
   "execution_count": 3,
   "metadata": {},
   "outputs": [
    {
     "data": {
      "text/html": [
       "<div>\n",
       "<style scoped>\n",
       "    .dataframe tbody tr th:only-of-type {\n",
       "        vertical-align: middle;\n",
       "    }\n",
       "\n",
       "    .dataframe tbody tr th {\n",
       "        vertical-align: top;\n",
       "    }\n",
       "\n",
       "    .dataframe thead th {\n",
       "        text-align: right;\n",
       "    }\n",
       "</style>\n",
       "<table border=\"1\" class=\"dataframe\">\n",
       "  <thead>\n",
       "    <tr style=\"text-align: right;\">\n",
       "      <th></th>\n",
       "      <th>image_id</th>\n",
       "      <th>x</th>\n",
       "      <th>y</th>\n",
       "      <th>0</th>\n",
       "      <th>1</th>\n",
       "      <th>2</th>\n",
       "      <th>3</th>\n",
       "      <th>4</th>\n",
       "      <th>5</th>\n",
       "      <th>6</th>\n",
       "      <th>...</th>\n",
       "      <th>429</th>\n",
       "      <th>430</th>\n",
       "      <th>431</th>\n",
       "      <th>432</th>\n",
       "      <th>433</th>\n",
       "      <th>434</th>\n",
       "      <th>435</th>\n",
       "      <th>436</th>\n",
       "      <th>437</th>\n",
       "      <th>label</th>\n",
       "    </tr>\n",
       "  </thead>\n",
       "  <tbody>\n",
       "    <tr>\n",
       "      <th>0</th>\n",
       "      <td>129D1</td>\n",
       "      <td>42</td>\n",
       "      <td>234</td>\n",
       "      <td>0.183240</td>\n",
       "      <td>0.183240</td>\n",
       "      <td>0.177040</td>\n",
       "      <td>0.181723</td>\n",
       "      <td>0.176845</td>\n",
       "      <td>0.182095</td>\n",
       "      <td>0.176937</td>\n",
       "      <td>...</td>\n",
       "      <td>0.390600</td>\n",
       "      <td>0.394394</td>\n",
       "      <td>0.398004</td>\n",
       "      <td>0.402821</td>\n",
       "      <td>0.183240</td>\n",
       "      <td>0.183240</td>\n",
       "      <td>0.183240</td>\n",
       "      <td>0.183240</td>\n",
       "      <td>0.0</td>\n",
       "      <td>1</td>\n",
       "    </tr>\n",
       "    <tr>\n",
       "      <th>1</th>\n",
       "      <td>129D1</td>\n",
       "      <td>33</td>\n",
       "      <td>156</td>\n",
       "      <td>0.183240</td>\n",
       "      <td>0.183240</td>\n",
       "      <td>0.179713</td>\n",
       "      <td>0.177953</td>\n",
       "      <td>0.174137</td>\n",
       "      <td>0.177956</td>\n",
       "      <td>0.171644</td>\n",
       "      <td>...</td>\n",
       "      <td>0.415097</td>\n",
       "      <td>0.417611</td>\n",
       "      <td>0.421339</td>\n",
       "      <td>0.430918</td>\n",
       "      <td>0.183240</td>\n",
       "      <td>0.183240</td>\n",
       "      <td>0.183240</td>\n",
       "      <td>0.183240</td>\n",
       "      <td>0.0</td>\n",
       "      <td>1</td>\n",
       "    </tr>\n",
       "    <tr>\n",
       "      <th>2</th>\n",
       "      <td>129D1</td>\n",
       "      <td>78</td>\n",
       "      <td>78</td>\n",
       "      <td>0.183240</td>\n",
       "      <td>0.183240</td>\n",
       "      <td>0.177950</td>\n",
       "      <td>0.170932</td>\n",
       "      <td>0.168615</td>\n",
       "      <td>0.170199</td>\n",
       "      <td>0.166566</td>\n",
       "      <td>...</td>\n",
       "      <td>0.401058</td>\n",
       "      <td>0.406532</td>\n",
       "      <td>0.407522</td>\n",
       "      <td>0.410457</td>\n",
       "      <td>0.419562</td>\n",
       "      <td>0.183240</td>\n",
       "      <td>0.183240</td>\n",
       "      <td>0.183240</td>\n",
       "      <td>0.0</td>\n",
       "      <td>1</td>\n",
       "    </tr>\n",
       "    <tr>\n",
       "      <th>3</th>\n",
       "      <td>129D1</td>\n",
       "      <td>42</td>\n",
       "      <td>147</td>\n",
       "      <td>0.183240</td>\n",
       "      <td>0.183240</td>\n",
       "      <td>0.179855</td>\n",
       "      <td>0.182989</td>\n",
       "      <td>0.178902</td>\n",
       "      <td>0.182606</td>\n",
       "      <td>0.177878</td>\n",
       "      <td>...</td>\n",
       "      <td>0.423789</td>\n",
       "      <td>0.430713</td>\n",
       "      <td>0.436174</td>\n",
       "      <td>0.441805</td>\n",
       "      <td>0.183240</td>\n",
       "      <td>0.183240</td>\n",
       "      <td>0.183240</td>\n",
       "      <td>0.183240</td>\n",
       "      <td>0.0</td>\n",
       "      <td>1</td>\n",
       "    </tr>\n",
       "    <tr>\n",
       "      <th>4</th>\n",
       "      <td>129D1</td>\n",
       "      <td>42</td>\n",
       "      <td>235</td>\n",
       "      <td>0.183240</td>\n",
       "      <td>0.183240</td>\n",
       "      <td>0.172990</td>\n",
       "      <td>0.176540</td>\n",
       "      <td>0.171127</td>\n",
       "      <td>0.176303</td>\n",
       "      <td>0.171870</td>\n",
       "      <td>...</td>\n",
       "      <td>0.377796</td>\n",
       "      <td>0.379615</td>\n",
       "      <td>0.383085</td>\n",
       "      <td>0.388312</td>\n",
       "      <td>0.183240</td>\n",
       "      <td>0.183240</td>\n",
       "      <td>0.183240</td>\n",
       "      <td>0.183240</td>\n",
       "      <td>0.0</td>\n",
       "      <td>1</td>\n",
       "    </tr>\n",
       "    <tr>\n",
       "      <th>...</th>\n",
       "      <td>...</td>\n",
       "      <td>...</td>\n",
       "      <td>...</td>\n",
       "      <td>...</td>\n",
       "      <td>...</td>\n",
       "      <td>...</td>\n",
       "      <td>...</td>\n",
       "      <td>...</td>\n",
       "      <td>...</td>\n",
       "      <td>...</td>\n",
       "      <td>...</td>\n",
       "      <td>...</td>\n",
       "      <td>...</td>\n",
       "      <td>...</td>\n",
       "      <td>...</td>\n",
       "      <td>...</td>\n",
       "      <td>...</td>\n",
       "      <td>...</td>\n",
       "      <td>...</td>\n",
       "      <td>...</td>\n",
       "      <td>...</td>\n",
       "    </tr>\n",
       "    <tr>\n",
       "      <th>586594</th>\n",
       "      <td>05814</td>\n",
       "      <td>59</td>\n",
       "      <td>147</td>\n",
       "      <td>0.161424</td>\n",
       "      <td>0.161424</td>\n",
       "      <td>0.165725</td>\n",
       "      <td>0.164123</td>\n",
       "      <td>0.161058</td>\n",
       "      <td>0.160869</td>\n",
       "      <td>0.160224</td>\n",
       "      <td>...</td>\n",
       "      <td>0.358010</td>\n",
       "      <td>0.359653</td>\n",
       "      <td>0.364118</td>\n",
       "      <td>0.368421</td>\n",
       "      <td>0.161424</td>\n",
       "      <td>0.161424</td>\n",
       "      <td>0.161424</td>\n",
       "      <td>0.161424</td>\n",
       "      <td>0.0</td>\n",
       "      <td>0</td>\n",
       "    </tr>\n",
       "    <tr>\n",
       "      <th>586595</th>\n",
       "      <td>05814</td>\n",
       "      <td>52</td>\n",
       "      <td>148</td>\n",
       "      <td>0.161424</td>\n",
       "      <td>0.161424</td>\n",
       "      <td>0.172172</td>\n",
       "      <td>0.170590</td>\n",
       "      <td>0.168009</td>\n",
       "      <td>0.167722</td>\n",
       "      <td>0.166930</td>\n",
       "      <td>...</td>\n",
       "      <td>0.395572</td>\n",
       "      <td>0.396083</td>\n",
       "      <td>0.399904</td>\n",
       "      <td>0.405905</td>\n",
       "      <td>0.161424</td>\n",
       "      <td>0.161424</td>\n",
       "      <td>0.161424</td>\n",
       "      <td>0.161424</td>\n",
       "      <td>0.0</td>\n",
       "      <td>0</td>\n",
       "    </tr>\n",
       "    <tr>\n",
       "      <th>586596</th>\n",
       "      <td>05814</td>\n",
       "      <td>57</td>\n",
       "      <td>148</td>\n",
       "      <td>0.161424</td>\n",
       "      <td>0.161424</td>\n",
       "      <td>0.166005</td>\n",
       "      <td>0.164945</td>\n",
       "      <td>0.161472</td>\n",
       "      <td>0.161788</td>\n",
       "      <td>0.160700</td>\n",
       "      <td>...</td>\n",
       "      <td>0.364860</td>\n",
       "      <td>0.364178</td>\n",
       "      <td>0.365183</td>\n",
       "      <td>0.368164</td>\n",
       "      <td>0.161424</td>\n",
       "      <td>0.161424</td>\n",
       "      <td>0.161424</td>\n",
       "      <td>0.161424</td>\n",
       "      <td>0.0</td>\n",
       "      <td>0</td>\n",
       "    </tr>\n",
       "    <tr>\n",
       "      <th>586597</th>\n",
       "      <td>05814</td>\n",
       "      <td>57</td>\n",
       "      <td>149</td>\n",
       "      <td>0.161424</td>\n",
       "      <td>0.161424</td>\n",
       "      <td>0.161848</td>\n",
       "      <td>0.160963</td>\n",
       "      <td>0.157673</td>\n",
       "      <td>0.158131</td>\n",
       "      <td>0.156798</td>\n",
       "      <td>...</td>\n",
       "      <td>0.362013</td>\n",
       "      <td>0.361641</td>\n",
       "      <td>0.362803</td>\n",
       "      <td>0.366092</td>\n",
       "      <td>0.161424</td>\n",
       "      <td>0.161424</td>\n",
       "      <td>0.161424</td>\n",
       "      <td>0.161424</td>\n",
       "      <td>0.0</td>\n",
       "      <td>0</td>\n",
       "    </tr>\n",
       "    <tr>\n",
       "      <th>586598</th>\n",
       "      <td>05814</td>\n",
       "      <td>56</td>\n",
       "      <td>150</td>\n",
       "      <td>0.161424</td>\n",
       "      <td>0.161424</td>\n",
       "      <td>0.159009</td>\n",
       "      <td>0.158465</td>\n",
       "      <td>0.155250</td>\n",
       "      <td>0.155157</td>\n",
       "      <td>0.154144</td>\n",
       "      <td>...</td>\n",
       "      <td>0.366832</td>\n",
       "      <td>0.366182</td>\n",
       "      <td>0.366938</td>\n",
       "      <td>0.371395</td>\n",
       "      <td>0.161424</td>\n",
       "      <td>0.161424</td>\n",
       "      <td>0.161424</td>\n",
       "      <td>0.161424</td>\n",
       "      <td>0.0</td>\n",
       "      <td>0</td>\n",
       "    </tr>\n",
       "  </tbody>\n",
       "</table>\n",
       "<p>909499 rows × 442 columns</p>\n",
       "</div>"
      ],
      "text/plain": [
       "       image_id   x    y         0         1         2         3         4  \\\n",
       "0         129D1  42  234  0.183240  0.183240  0.177040  0.181723  0.176845   \n",
       "1         129D1  33  156  0.183240  0.183240  0.179713  0.177953  0.174137   \n",
       "2         129D1  78   78  0.183240  0.183240  0.177950  0.170932  0.168615   \n",
       "3         129D1  42  147  0.183240  0.183240  0.179855  0.182989  0.178902   \n",
       "4         129D1  42  235  0.183240  0.183240  0.172990  0.176540  0.171127   \n",
       "...         ...  ..  ...       ...       ...       ...       ...       ...   \n",
       "586594    05814  59  147  0.161424  0.161424  0.165725  0.164123  0.161058   \n",
       "586595    05814  52  148  0.161424  0.161424  0.172172  0.170590  0.168009   \n",
       "586596    05814  57  148  0.161424  0.161424  0.166005  0.164945  0.161472   \n",
       "586597    05814  57  149  0.161424  0.161424  0.161848  0.160963  0.157673   \n",
       "586598    05814  56  150  0.161424  0.161424  0.159009  0.158465  0.155250   \n",
       "\n",
       "               5         6  ...       429       430       431       432  \\\n",
       "0       0.182095  0.176937  ...  0.390600  0.394394  0.398004  0.402821   \n",
       "1       0.177956  0.171644  ...  0.415097  0.417611  0.421339  0.430918   \n",
       "2       0.170199  0.166566  ...  0.401058  0.406532  0.407522  0.410457   \n",
       "3       0.182606  0.177878  ...  0.423789  0.430713  0.436174  0.441805   \n",
       "4       0.176303  0.171870  ...  0.377796  0.379615  0.383085  0.388312   \n",
       "...          ...       ...  ...       ...       ...       ...       ...   \n",
       "586594  0.160869  0.160224  ...  0.358010  0.359653  0.364118  0.368421   \n",
       "586595  0.167722  0.166930  ...  0.395572  0.396083  0.399904  0.405905   \n",
       "586596  0.161788  0.160700  ...  0.364860  0.364178  0.365183  0.368164   \n",
       "586597  0.158131  0.156798  ...  0.362013  0.361641  0.362803  0.366092   \n",
       "586598  0.155157  0.154144  ...  0.366832  0.366182  0.366938  0.371395   \n",
       "\n",
       "             433       434       435       436  437  label  \n",
       "0       0.183240  0.183240  0.183240  0.183240  0.0      1  \n",
       "1       0.183240  0.183240  0.183240  0.183240  0.0      1  \n",
       "2       0.419562  0.183240  0.183240  0.183240  0.0      1  \n",
       "3       0.183240  0.183240  0.183240  0.183240  0.0      1  \n",
       "4       0.183240  0.183240  0.183240  0.183240  0.0      1  \n",
       "...          ...       ...       ...       ...  ...    ...  \n",
       "586594  0.161424  0.161424  0.161424  0.161424  0.0      0  \n",
       "586595  0.161424  0.161424  0.161424  0.161424  0.0      0  \n",
       "586596  0.161424  0.161424  0.161424  0.161424  0.0      0  \n",
       "586597  0.161424  0.161424  0.161424  0.161424  0.0      0  \n",
       "586598  0.161424  0.161424  0.161424  0.161424  0.0      0  \n",
       "\n",
       "[909499 rows x 442 columns]"
      ]
     },
     "execution_count": 3,
     "metadata": {},
     "output_type": "execute_result"
    }
   ],
   "source": [
    "df_data = pd.read_pickle('df_data.pkl')\n",
    "df_data"
   ]
  },
  {
   "cell_type": "code",
   "execution_count": 4,
   "metadata": {},
   "outputs": [
    {
     "name": "stdout",
     "output_type": "stream",
     "text": [
      "Number of duplicate rows: 46\n"
     ]
    }
   ],
   "source": [
    "feature_columns = list(range(0, 438))\n",
    "duplicates = df_data.duplicated(subset=feature_columns, keep=False)\n",
    "\n",
    "num_duplicates = duplicates.sum()\n",
    "print(f'Number of duplicate rows: {num_duplicates}')"
   ]
  },
  {
   "cell_type": "code",
   "execution_count": 5,
   "metadata": {},
   "outputs": [
    {
     "name": "stdout",
     "output_type": "stream",
     "text": [
      "Number of duplicate rows: 0\n"
     ]
    }
   ],
   "source": [
    "df_data = df_data[~duplicates]\n",
    "\n",
    "duplicates = df_data.duplicated(subset=feature_columns, keep=False)\n",
    "\n",
    "num_duplicates = duplicates.sum()\n",
    "print(f'Number of duplicate rows: {num_duplicates}')"
   ]
  },
  {
   "cell_type": "code",
   "execution_count": 6,
   "metadata": {},
   "outputs": [
    {
     "name": "stdout",
     "output_type": "stream",
     "text": [
      "Number of zero coordinates rows: 0\n"
     ]
    }
   ],
   "source": [
    "zero_coordinates = df_data[(df_data['x'] == 0) | (df_data['y'] == 0)]\n",
    "\n",
    "num_zero_coordinates = len(zero_coordinates)\n",
    "\n",
    "print(f'Number of zero coordinates rows: {num_zero_coordinates}')"
   ]
  },
  {
   "cell_type": "code",
   "execution_count": 7,
   "metadata": {},
   "outputs": [
    {
     "name": "stdout",
     "output_type": "stream",
     "text": [
      "Number of missing values: 0\n"
     ]
    }
   ],
   "source": [
    "missing_count = df_data.isnull().sum().sum()\n",
    "\n",
    "print(f'Number of missing values: {missing_count}')"
   ]
  },
  {
   "cell_type": "code",
   "execution_count": 8,
   "metadata": {},
   "outputs": [
    {
     "name": "stdout",
     "output_type": "stream",
     "text": [
      "Number of constant features: 1\n"
     ]
    }
   ],
   "source": [
    "constant_features = [col for col in df_data.columns if df_data[col].nunique() == 1]\n",
    "\n",
    "print(f'Number of constant features: {len(constant_features)}')"
   ]
  },
  {
   "cell_type": "code",
   "execution_count": 9,
   "metadata": {},
   "outputs": [
    {
     "name": "stdout",
     "output_type": "stream",
     "text": [
      "Number of images: 337\n"
     ]
    }
   ],
   "source": [
    "num_unique_elements = df_data['image_id'].nunique()\n",
    "print(f'Number of images: {num_unique_elements}')"
   ]
  },
  {
   "cell_type": "code",
   "execution_count": 46,
   "metadata": {},
   "outputs": [
    {
     "name": "stdout",
     "output_type": "stream",
     "text": [
      "There is no intersection between training set and test set.\n"
     ]
    }
   ],
   "source": [
    "# Extract unique image_ids\n",
    "image_ids = df_data['image_id'].unique()\n",
    "\n",
    "# Split the unique image_ids into training and testing sets\n",
    "train_image_ids, test_image_ids = train_test_split(image_ids, test_size=0.2)\n",
    "\n",
    "# Find the intersection of train_image_ids and test_image_ids\n",
    "intersection = np.intersect1d(train_image_ids, test_image_ids)\n",
    "\n",
    "# Check if there is any intersection between training set and test set\n",
    "if intersection.size > 0:\n",
    "    print(\"There is an intersection between training set and test set.\")\n",
    "else:\n",
    "    print(\"There is no intersection between training set and test set.\")"
   ]
  },
  {
   "cell_type": "code",
   "execution_count": 47,
   "metadata": {},
   "outputs": [],
   "source": [
    "# Split the dataset using image_id\n",
    "\n",
    "# Create the training dataset (train_df) by filtering rows with image_id that is in the train_image_ids array.\n",
    "train_df = df_data[df_data['image_id'].isin(train_image_ids)]\n",
    "\n",
    "# Create the testing dataset (test_df) by filtering rows with image_id that is in the test_image_ids array.\n",
    "test_df = df_data[df_data['image_id'].isin(test_image_ids)]"
   ]
  },
  {
   "cell_type": "code",
   "execution_count": 56,
   "metadata": {},
   "outputs": [],
   "source": [
    "test_df.to_pickle(\"test_df.pkl\")"
   ]
  },
  {
   "cell_type": "code",
   "execution_count": 49,
   "metadata": {},
   "outputs": [],
   "source": [
    "# The last column is the label and first three columns are 'image_id', 'x', 'y'\n",
    "features = train_df.columns[3:-1]\n",
    "label = train_df.columns[-1]\n",
    "\n",
    "scaler = MinMaxScaler()\n",
    "X_train = scaler.fit_transform(train_df[features])\n",
    "X_test = scaler.transform(test_df[features])\n",
    "\n",
    "y_train = train_df[label].values\n",
    "y_test = test_df[label].values\n",
    "\n",
    "X_train, y_train = shuffle(X_train, y_train)\n",
    "\n",
    "rus = RandomUnderSampler(random_state=42)  \n",
    "X_resampled, y_resampled = rus.fit_resample(X_train, y_train)"
   ]
  },
  {
   "cell_type": "code",
   "execution_count": 44,
   "metadata": {},
   "outputs": [
    {
     "name": "stdout",
     "output_type": "stream",
     "text": [
      "Counter({0: 467609, 1: 257236})\n",
      "Counter({0: 257236, 1: 257236})\n"
     ]
    }
   ],
   "source": [
    "print(Counter(y_train))\n",
    "print(Counter(y_resampled))"
   ]
  },
  {
   "cell_type": "code",
   "execution_count": 50,
   "metadata": {},
   "outputs": [
    {
     "name": "stdout",
     "output_type": "stream",
     "text": [
      "\n",
      "Confusion Matrix:\n",
      " [[91303 12373]\n",
      " [ 5028 60556]]\n",
      "\n",
      "Classification Report:\n",
      "               precision    recall  f1-score   support\n",
      "\n",
      "           0       0.95      0.88      0.91    103676\n",
      "           1       0.83      0.92      0.87     65584\n",
      "\n",
      "    accuracy                           0.90    169260\n",
      "   macro avg       0.89      0.90      0.89    169260\n",
      "weighted avg       0.90      0.90      0.90    169260\n",
      "\n"
     ]
    }
   ],
   "source": [
    "lr = LogisticRegression(solver='newton-cg', n_jobs=-1)\n",
    "lr.fit(X_resampled, y_resampled)\n",
    "\n",
    "predictions = lr.predict(X_test)\n",
    "\n",
    "print(\"\\nConfusion Matrix:\\n\", confusion_matrix(y_test, predictions))\n",
    "print(\"\\nClassification Report:\\n\", classification_report(y_test, predictions))"
   ]
  },
  {
   "cell_type": "code",
   "execution_count": 51,
   "metadata": {},
   "outputs": [
    {
     "name": "stdout",
     "output_type": "stream",
     "text": [
      "\n",
      "Confusion Matrix:\n",
      " [[95852  7824]\n",
      " [ 7113 58471]]\n",
      "\n",
      "Classification Report:\n",
      "               precision    recall  f1-score   support\n",
      "\n",
      "           0       0.93      0.92      0.93    103676\n",
      "           1       0.88      0.89      0.89     65584\n",
      "\n",
      "    accuracy                           0.91    169260\n",
      "   macro avg       0.91      0.91      0.91    169260\n",
      "weighted avg       0.91      0.91      0.91    169260\n",
      "\n"
     ]
    }
   ],
   "source": [
    "lr = LogisticRegression(solver='newton-cg', n_jobs=-1)\n",
    "lr.fit(X_train, y_train)\n",
    "\n",
    "predictions = lr.predict(X_test)\n",
    "\n",
    "print(\"\\nConfusion Matrix:\\n\", confusion_matrix(y_test, predictions))\n",
    "print(\"\\nClassification Report:\\n\", classification_report(y_test, predictions))"
   ]
  },
  {
   "cell_type": "code",
   "execution_count": 52,
   "metadata": {},
   "outputs": [
    {
     "name": "stdout",
     "output_type": "stream",
     "text": [
      "\n",
      "Confusion Matrix:\n",
      " [[36112 67564]\n",
      " [ 1603 63981]]\n",
      "\n",
      "Classification Report:\n",
      "               precision    recall  f1-score   support\n",
      "\n",
      "           0       0.96      0.35      0.51    103676\n",
      "           1       0.49      0.98      0.65     65584\n",
      "\n",
      "    accuracy                           0.59    169260\n",
      "   macro avg       0.72      0.66      0.58    169260\n",
      "weighted avg       0.77      0.59      0.56    169260\n",
      "\n"
     ]
    }
   ],
   "source": [
    "rf = RandomForestClassifier(n_jobs=-1)\n",
    "rf.fit(X_resampled, y_resampled)\n",
    "\n",
    "predictions = rf.predict(X_test)\n",
    "\n",
    "print(\"\\nConfusion Matrix:\\n\", confusion_matrix(y_test, predictions))\n",
    "print(\"\\nClassification Report:\\n\", classification_report(y_test, predictions))"
   ]
  },
  {
   "cell_type": "code",
   "execution_count": 53,
   "metadata": {},
   "outputs": [
    {
     "name": "stdout",
     "output_type": "stream",
     "text": [
      "\n",
      "Confusion Matrix:\n",
      " [[37567 66109]\n",
      " [ 2087 63497]]\n",
      "\n",
      "Classification Report:\n",
      "               precision    recall  f1-score   support\n",
      "\n",
      "           0       0.95      0.36      0.52    103676\n",
      "           1       0.49      0.97      0.65     65584\n",
      "\n",
      "    accuracy                           0.60    169260\n",
      "   macro avg       0.72      0.67      0.59    169260\n",
      "weighted avg       0.77      0.60      0.57    169260\n",
      "\n"
     ]
    }
   ],
   "source": [
    "rf = RandomForestClassifier(n_jobs=-1)\n",
    "rf.fit(X_train, y_train)\n",
    "\n",
    "predictions = rf.predict(X_test)\n",
    "\n",
    "print(\"\\nConfusion Matrix:\\n\", confusion_matrix(y_test, predictions))\n",
    "print(\"\\nClassification Report:\\n\", classification_report(y_test, predictions))"
   ]
  },
  {
   "cell_type": "code",
   "execution_count": 54,
   "metadata": {},
   "outputs": [
    {
     "name": "stdout",
     "output_type": "stream",
     "text": [
      "\n",
      "Confusion Matrix:\n",
      " [[53713 49963]\n",
      " [ 6944 58640]]\n",
      "\n",
      "Classification Report:\n",
      "               precision    recall  f1-score   support\n",
      "\n",
      "           0       0.89      0.52      0.65    103676\n",
      "           1       0.54      0.89      0.67     65584\n",
      "\n",
      "    accuracy                           0.66    169260\n",
      "   macro avg       0.71      0.71      0.66    169260\n",
      "weighted avg       0.75      0.66      0.66    169260\n",
      "\n"
     ]
    }
   ],
   "source": [
    "knn = KNeighborsClassifier(n_neighbors=5, n_jobs=-1)\n",
    "knn.fit(X_resampled, y_resampled)\n",
    "\n",
    "predictions = knn.predict(X_test)\n",
    "\n",
    "print(\"\\nConfusion Matrix:\\n\", confusion_matrix(y_test, predictions))\n",
    "print(\"\\nClassification Report:\\n\", classification_report(y_test, predictions))"
   ]
  },
  {
   "cell_type": "code",
   "execution_count": 55,
   "metadata": {},
   "outputs": [
    {
     "name": "stdout",
     "output_type": "stream",
     "text": [
      "\n",
      "Confusion Matrix:\n",
      " [[57956 45720]\n",
      " [ 8692 56892]]\n",
      "\n",
      "Classification Report:\n",
      "               precision    recall  f1-score   support\n",
      "\n",
      "           0       0.87      0.56      0.68    103676\n",
      "           1       0.55      0.87      0.68     65584\n",
      "\n",
      "    accuracy                           0.68    169260\n",
      "   macro avg       0.71      0.71      0.68    169260\n",
      "weighted avg       0.75      0.68      0.68    169260\n",
      "\n"
     ]
    }
   ],
   "source": [
    "knn = KNeighborsClassifier(n_neighbors=5, n_jobs=-1)\n",
    "knn.fit(X_train, y_train)\n",
    "\n",
    "predictions = knn.predict(X_test)\n",
    "\n",
    "print(\"\\nConfusion Matrix:\\n\", confusion_matrix(y_test, predictions))\n",
    "print(\"\\nClassification Report:\\n\", classification_report(y_test, predictions))"
   ]
  },
  {
   "cell_type": "code",
   "execution_count": null,
   "metadata": {},
   "outputs": [],
   "source": []
  },
  {
   "cell_type": "code",
   "execution_count": null,
   "metadata": {},
   "outputs": [],
   "source": []
  }
 ],
 "metadata": {
  "kernelspec": {
   "display_name": "Python 3 (ipykernel)",
   "language": "python",
   "name": "python3"
  },
  "language_info": {
   "codemirror_mode": {
    "name": "ipython",
    "version": 3
   },
   "file_extension": ".py",
   "mimetype": "text/x-python",
   "name": "python",
   "nbconvert_exporter": "python",
   "pygments_lexer": "ipython3",
   "version": "3.11.5"
  }
 },
 "nbformat": 4,
 "nbformat_minor": 4
}
