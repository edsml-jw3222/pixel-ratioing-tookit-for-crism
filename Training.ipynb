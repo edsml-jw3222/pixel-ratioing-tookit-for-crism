{
 "cells": [
  {
   "cell_type": "markdown",
   "id": "8b4021cc-4d4d-4f4d-b0e7-29129ca07d1f",
   "metadata": {},
   "source": [
    "## Training"
   ]
  },
  {
   "cell_type": "code",
   "execution_count": 1,
   "id": "6a4eab58-45de-4eba-a7f4-8f20aa42f075",
   "metadata": {},
   "outputs": [],
   "source": [
    "import os\n",
    "import scipy.io\n",
    "import pickle\n",
    "import collections\n",
    "import numpy as np\n",
    "import matplotlib.pyplot as plt\n",
    "from scipy.signal import medfilt\n",
    "\n",
    "from spectral.io import envi\n",
    "from sklearn.metrics import roc_curve, auc\n",
    "from sklearn.preprocessing import MinMaxScaler\n",
    "from sklearn.model_selection import learning_curve\n",
    "from sklearn.model_selection import cross_val_score\n",
    "from sklearn.model_selection import train_test_split\n",
    "from imblearn.under_sampling import RandomUnderSampler\n",
    "from sklearn.metrics import classification_report, confusion_matrix, accuracy_score"
   ]
  },
  {
   "cell_type": "code",
   "execution_count": 2,
   "id": "88b3607b-b10a-40fb-b23d-2210ff685d3b",
   "metadata": {},
   "outputs": [],
   "source": [
    "bands = [\n",
    " 1.001350, 1.007900, 1.014450, 1.021000, 1.027550, 1.034100, 1.040650,\n",
    " 1.047200, 1.053750, 1.060300, 1.066850, 1.073410, 1.079960, 1.086510,\n",
    " 1.093070, 1.099620, 1.106170, 1.112730, 1.119280, 1.125840, 1.132390,\n",
    " 1.138950, 1.145510, 1.152060, 1.158620, 1.165180, 1.171730, 1.178290,\n",
    " 1.184850, 1.191410, 1.197970, 1.204530, 1.211090, 1.217650, 1.224210,\n",
    " 1.230770, 1.237330, 1.243890, 1.250450, 1.257010, 1.263570, 1.270140,\n",
    " 1.276700, 1.283260, 1.289830, 1.296390, 1.302950, 1.309520, 1.316080,\n",
    " 1.322650, 1.329210, 1.335780, 1.342340, 1.348910, 1.355480, 1.362050,\n",
    " 1.368610, 1.375180, 1.381750, 1.388320, 1.394890, 1.401450, 1.408020,\n",
    " 1.414590, 1.421160, 1.427730, 1.434310, 1.440880, 1.447450, 1.454020,\n",
    " 1.460590, 1.467160, 1.473740, 1.480310, 1.486880, 1.493460, 1.500030,\n",
    " 1.506610, 1.513180, 1.519760, 1.526330, 1.532910, 1.539480, 1.546060,\n",
    " 1.552640, 1.559210, 1.565790, 1.572370, 1.578950, 1.585520, 1.592100,\n",
    " 1.598680, 1.605260, 1.611840, 1.618420, 1.625000, 1.631580, 1.638160,\n",
    " 1.644740, 1.651330, 1.657910, 1.664490, 1.671070, 1.677660, 1.684240,\n",
    " 1.690820, 1.697410, 1.703990, 1.710580, 1.717160, 1.723750, 1.730330,\n",
    " 1.736920, 1.743510, 1.750090, 1.756680, 1.763270, 1.769850, 1.776440,\n",
    " 1.783030, 1.789620, 1.796210, 1.802800, 1.809390, 1.815980, 1.822570,\n",
    " 1.829160, 1.835750, 1.842340, 1.848930, 1.855520, 1.862120, 1.868710,\n",
    " 1.875300, 1.881900, 1.888490, 1.895080, 1.901680, 1.908270, 1.914870,\n",
    " 1.921460, 1.928060, 1.934650, 1.941250, 1.947850, 1.954440, 1.961040,\n",
    " 1.967640, 1.974240, 1.980840, 1.987430, 1.994030, 2.000630, 2.007230,\n",
    " 2.013830, 2.020430, 2.027030, 2.033630, 2.040240, 2.046840, 2.053440,\n",
    " 2.060040, 2.066640, 2.073250, 2.079850, 2.086450, 2.093060, 2.099660,\n",
    " 2.106270, 2.112870, 2.119480, 2.126080, 2.132690, 2.139300, 2.145900,\n",
    " 2.152510, 2.159120, 2.165720, 2.172330, 2.178940, 2.185550, 2.192160,\n",
    " 2.198770, 2.205380, 2.211990, 2.218600, 2.225210, 2.231820, 2.238430,\n",
    " 2.245040, 2.251650, 2.258270, 2.264880, 2.271490, 2.278100, 2.284720,\n",
    " 2.291330, 2.297950, 2.304560, 2.311180, 2.317790, 2.324410, 2.331020,\n",
    " 2.337640, 2.344260, 2.350870, 2.357490, 2.364110, 2.370720, 2.377340,\n",
    " 2.383960, 2.390580, 2.397200, 2.403820, 2.410440, 2.417060, 2.423680,\n",
    " 2.430300, 2.436920, 2.443540, 2.450170, 2.456790, 2.463410, 2.470030,\n",
    " 2.476660, 2.483280, 2.489900, 2.496530, 2.503120, 2.509720, 2.516320,\n",
    " 2.522920, 2.529510, 2.536110, 2.542710, 2.549310, 2.555910, 2.562510,\n",
    " 2.569110, 2.575710, 2.582310, 2.588910, 2.595510, 2.602120, 2.608720,\n",
    " 2.615320, 2.621920, 2.628530, 2.635130, 2.641740, 2.648340, 2.654950,\n",
    " 2.661550, 2.668160, 2.674760, 2.681370, 2.687980, 2.694580, 2.701190,\n",
    " 2.760680, 2.767290, 2.773900, 2.780520, 2.787130, 2.793740, 2.800350,\n",
    " 2.806970, 2.813580, 2.820200, 2.826810, 2.833430, 2.840040, 2.846660,\n",
    " 2.853280, 2.859890, 2.866510, 2.873130, 2.879750, 2.886360, 2.892980,\n",
    " 2.899600, 2.906220, 2.912840, 2.919460, 2.926080, 2.932700, 2.939320,\n",
    " 2.945950, 2.952570, 2.959190, 2.965810, 2.972440, 2.979060, 2.985680,\n",
    " 2.992310, 2.998930, 3.005560, 3.012180, 3.018810, 3.025440, 3.032060,\n",
    " 3.038690, 3.045320, 3.051950, 3.058570, 3.065200, 3.071830, 3.078460,\n",
    " 3.085090, 3.091720, 3.098350, 3.104980, 3.111610, 3.118250, 3.124880,\n",
    " 3.131510, 3.138140, 3.144780, 3.151410, 3.158040, 3.164680, 3.171310,\n",
    " 3.177950, 3.184580, 3.191220, 3.197850, 3.204490, 3.211130, 3.217760,\n",
    " 3.224400, 3.231040, 3.237680, 3.244320, 3.250960, 3.257600, 3.264240,\n",
    " 3.270880, 3.277520, 3.284160, 3.290800, 3.297440, 3.304080, 3.310730,\n",
    " 3.317370, 3.324010, 3.330660, 3.337300, 3.343950, 3.350590, 3.357240,\n",
    " 3.363880, 3.370530, 3.377170, 3.383820, 3.390470, 3.397120, 3.403760,\n",
    " 3.410410, 3.417060, 3.423710, 3.430360, 3.437010, 3.443660, 3.450310,\n",
    " 3.456960, 3.463610, 3.470260, 3.476920, 3.483570, 3.490220, 3.496870,\n",
    " 3.503530, 3.510180, 3.516840, 3.523490, 3.530150, 3.536800, 3.543460,\n",
    " 3.550110, 3.556770, 3.563430, 3.570080, 3.576740, 3.583400, 3.590060,\n",
    " 3.596720, 3.603380, 3.610040, 3.616700, 3.623360, 3.630020, 3.636680,\n",
    " 3.643340, 3.650000, 3.656670, 3.663330, 3.669990, 3.676650, 3.683320,\n",
    " 3.689980, 3.696650, 3.703310, 3.709980, 3.716640, 3.723310, 3.729980,\n",
    " 3.736640, 3.743310, 3.749980, 3.756650, 3.763310, 3.769980, 3.776650,\n",
    " 3.783320, 3.789990, 3.796660, 3.803330, 3.810000, 3.816670, 3.823350,\n",
    " 3.830020, 3.836690, 3.843360, 3.850040, 3.856710, 3.863390, 3.870060,\n",
    " 3.876730, 3.883410, 3.890080, 3.896760, 3.903440, 3.910110, 3.916790,\n",
    " 3.923470, 3.930150, 3.936820, 4.000000]\n",
    "num_bands = len(bands)"
   ]
  },
  {
   "cell_type": "code",
   "execution_count": 3,
   "id": "ff94efb4-94f4-44ed-a384-edc72fd42c54",
   "metadata": {},
   "outputs": [],
   "source": [
    "# Load .mat file\n",
    "data_a = scipy.io.loadmat('datasets/CRISM_bland_unratioed.mat')\n",
    "data_b = scipy.io.loadmat('datasets/CRISM_labeled_pixels_ratioed.mat')\n",
    "\n",
    "im_names_a = []                               # list of CRISM image names, mapping to numerical ID\n",
    "for id in data_a['im_names'].flatten():\n",
    "    im_names_a.append(id[0][:5])\n",
    "im_names_a = np.array(im_names_a).reshape(340, 1)\n",
    "pixims_a = data_a['pixims']                   # numerical ID of the original image\n",
    "coordinates_a = data_a['pixcrds']             # (x,y) point coordinates in the original image\n",
    "spectra_a = data_a['pixspec']                 # unratioed spectra\n",
    "\n",
    "im_names_b = data_b['im_names']\n",
    "pixims_b = data_b['pixims']\n",
    "coordinates_b = data_b['pixcrds']\n",
    "spectra_b = data_b['pixspec']\n",
    "labels_b = data_b['pixlabs']"
   ]
  },
  {
   "cell_type": "code",
   "execution_count": 4,
   "id": "01cac6e0-0742-4267-9adb-db0d46f7c74c",
   "metadata": {},
   "outputs": [],
   "source": [
    "def create_image_paths(directory_path):\n",
    "    image_paths = {}\n",
    "    for root, dirs, files in os.walk(directory_path):\n",
    "        for file in files:\n",
    "            if file.lower().endswith('.hdr'):\n",
    "                id = file[6:11]\n",
    "                image_paths[id] = os.path.join(root, file)\n",
    "    return image_paths\n",
    "\n",
    "def crism_to_mat(fname):\n",
    "\n",
    "    img = envi.open(fname)\n",
    "\n",
    "    arr = img.load()\n",
    "\n",
    "    mdict = {'IF': arr}\n",
    "   \n",
    "    xx_, yy_ = np.meshgrid(np.arange(arr.shape[1]),\n",
    "                           np.arange(arr.shape[0]))\n",
    "    mdict.update({'x': xx_.ravel() + 1, 'y': yy_.ravel() + 1})\n",
    "    mdict['IF'] = mdict['IF'].reshape((-1, num_bands))\n",
    "\n",
    "    return mdict\n",
    "\n",
    "def filter_bad_pixels(pixspec):\n",
    "\n",
    "    pixspec = pixspec.copy()\n",
    "\n",
    "    bad = (pixspec > 1e3) | ~np.isfinite(pixspec)\n",
    "    if np.any(bad):\n",
    "        pixspec[bad] = np.mean(pixspec[~bad])\n",
    "\n",
    "    return pixspec"
   ]
  },
  {
   "cell_type": "code",
   "execution_count": 5,
   "id": "eecb08f5-8070-4055-89f1-12d5ea067b9e",
   "metadata": {},
   "outputs": [],
   "source": [
    "def remove_spikes_column(mat, image, window_size):\n",
    "\n",
    "    height = np.max(mat['y'])\n",
    "    width = np.max(mat['x'])\n",
    "    num_channels = len(mat['IF'][0])\n",
    "    \n",
    "    image = image.reshape(height, width, num_channels)\n",
    "    \n",
    "    result = np.empty((height, width, num_channels))\n",
    "    \n",
    "    for col in range(width):\n",
    "            column_channel = image[:, col, ch]\n",
    "            \n",
    "            filtered_column_channel = medfilt(column_channel, kernel_size=window_size)\n",
    "            \n",
    "            diff = np.abs(column_channel - filtered_column_channel)\n",
    "            \n",
    "            std_diff = np.std(diff)\n",
    "            \n",
    "            spikes = diff > 5 * std_diff\n",
    "\n",
    "            column_channel[spikes] = filtered_column_channel[spikes]\n",
    "            \n",
    "            result[:, col, ch] = column_channel\n",
    "            \n",
    "    return result.reshape(-1, num_bands)"
   ]
  },
  {
   "cell_type": "code",
   "execution_count": 6,
   "id": "fa7e6c5c-3f35-420e-8029-024b8d091556",
   "metadata": {},
   "outputs": [
    {
     "data": {
      "text/plain": [
       "35"
      ]
     },
     "execution_count": 6,
     "metadata": {},
     "output_type": "execute_result"
    }
   ],
   "source": [
    "exclude = ['02885', '07E26', '0B385', '0C26C', '03E12', '082EE', '064D9', '08F68', \\\n",
    "           '0A91C', '0B252', '098B2', '13F5B', '09C0A', '0CA5C', '09326', '0ABCB', \\\n",
    "           '03BFB', '0634B', '0454E', '0A425', '09365', '09D44', '0634B', '0A546', \\\n",
    "           '050F2', '03E12', '0A546', '09312', '0CBE5', '09312', '0AB81', '0AA7D', \\\n",
    "           '040FF', '09E4C', '0A425']\n",
    "len(exclude)"
   ]
  },
  {
   "cell_type": "code",
   "execution_count": 7,
   "id": "fd364e25-b2a5-4a01-ad7f-d51007e25403",
   "metadata": {},
   "outputs": [],
   "source": [
    "image_paths = create_image_paths('/Users/wj/Desktop/CRISM_DATA/A')\n",
    "\n",
    "bland_pixels = []\n",
    "\n",
    "for id, im_path in image_paths.items():\n",
    "    \n",
    "    if id.upper() in exclude: continue\n",
    "\n",
    "    mat = crism_to_mat(im_path)\n",
    "    \n",
    "    if_= filter_bad_pixels(mat['IF'])\n",
    "    \n",
    "    if_ = remove_spikes_column(mat, if_, 3)\n",
    "\n",
    "    im_index = np.where(im_names_a == id.upper())[0][0]\n",
    "    pix_indices = np.where(pixims_a == im_index + 1)[0]\n",
    "\n",
    "    for pix_index in pix_indices:\n",
    "        pix_coor = coordinates_a[pix_index]\n",
    "        spectra_index = np.where((mat['x'] == pix_coor[0]) & (mat['y'] == pix_coor[1]))[0]\n",
    "        spectra = if_[spectra_index]\n",
    "        bland_pixels.append(spectra)\n",
    "\n",
    "bland_pixels = np.vstack(bland_pixels)  # Stack arrays along the first axis"
   ]
  },
  {
   "cell_type": "code",
   "execution_count": 8,
   "id": "2f3bd30a-0ad0-4e91-b301-ad95a9cb9378",
   "metadata": {},
   "outputs": [],
   "source": [
    "image_paths = create_image_paths('/Users/wj/Desktop/CRISM_DATA/B')\n",
    "\n",
    "mineral_pixels = []\n",
    "\n",
    "for id, im_path in image_paths.items():\n",
    "    \n",
    "    mat = crism_to_mat(im_path)\n",
    "    \n",
    "    if_= filter_bad_pixels(mat['IF'])\n",
    "    \n",
    "    if_ = remove_spikes_column(mat, if_, 3)\n",
    "\n",
    "    im_index = np.where(im_names_b == id.upper())[0][0]\n",
    "    pix_indices = np.where(pixims_b == im_index + 1)[0]\n",
    "\n",
    "    for pix_index in pix_indices:\n",
    "        # exclude bland pixels\n",
    "        if labels_b[pix_index] == 39: continue\n",
    "        pix_coor = coordinates_b[pix_index]\n",
    "        spectra_index = np.where((mat['x'] == pix_coor[0]) & (mat['y'] == pix_coor[1]))[0]\n",
    "        spectra = if_[spectra_index]\n",
    "        mineral_pixels.append(spectra)\n",
    "\n",
    "mineral_pixels = np.vstack(mineral_pixels)  # Stack arrays along the first axis"
   ]
  },
  {
   "cell_type": "code",
   "execution_count": 9,
   "id": "167031fc-8eac-482b-b4c0-0abc6837bd42",
   "metadata": {},
   "outputs": [
    {
     "name": "stdout",
     "output_type": "stream",
     "text": [
      "Bland Pixels:    (298900, 438)\n",
      "Mineral Pixels:  (586599, 438)\n"
     ]
    }
   ],
   "source": [
    "print('Bland Pixels:   ', bland_pixels.shape)\n",
    "print('Mineral Pixels: ', mineral_pixels.shape)"
   ]
  },
  {
   "cell_type": "code",
   "execution_count": 10,
   "id": "2acb34ae-4888-4160-bd48-66b08174ce59",
   "metadata": {},
   "outputs": [],
   "source": [
    "np.save('bland_pixels_v3.npy', bland_pixels)\n",
    "np.save('mineral_pixels_v3.npy', mineral_pixels)"
   ]
  },
  {
   "cell_type": "code",
   "execution_count": 4,
   "id": "be9d8c75-a2a9-43b1-98b5-5212b621faf9",
   "metadata": {},
   "outputs": [],
   "source": [
    "bland_pixels = np.load('bland_pixels_v3.npy')\n",
    "mineral_pixels = np.load('mineral_pixels_v3.npy')"
   ]
  },
  {
   "cell_type": "code",
   "execution_count": 5,
   "id": "b2c1b944-32f3-4e3b-b73b-dc54d7fde782",
   "metadata": {},
   "outputs": [],
   "source": [
    "# Combine data\n",
    "pixels = np.concatenate((bland_pixels, mineral_pixels))\n",
    "\n",
    "# Create labels\n",
    "bland_labels = np.ones(bland_pixels.shape[0])\n",
    "mineral_labels = np.zeros(mineral_pixels.shape[0])\n",
    "labels = np.concatenate((bland_labels, mineral_labels))\n",
    "\n",
    "# Create a RandomUnderSampler object\n",
    "rus = RandomUnderSampler(random_state=42)\n",
    "\n",
    "# Fit the sampler and resample the data and labels\n",
    "pixels, labels = rus.fit_resample(pixels, labels)\n",
    "\n",
    "# Split your data into training and testing sets\n",
    "pixels_train, pixels_test, labels_train, labels_test = train_test_split(pixels, labels, test_size=0.2, random_state=42)\n",
    "\n",
    "scaler = MinMaxScaler()\n",
    "pixels_train_scaled = scaler.fit_transform(pixels_train)\n",
    "pixels_test_scaled = scaler.transform(pixels_test)"
   ]
  },
  {
   "cell_type": "code",
   "execution_count": 6,
   "id": "40c1a030-036d-4910-895f-b1a9ab9a4246",
   "metadata": {},
   "outputs": [
    {
     "name": "stdout",
     "output_type": "stream",
     "text": [
      "\n",
      "Confusion Matrix:\n",
      " [[59415   423]\n",
      " [  616 59106]]\n",
      "\n",
      "Classification Report:\n",
      "               precision    recall  f1-score   support\n",
      "\n",
      "         0.0       0.99      0.99      0.99     59838\n",
      "         1.0       0.99      0.99      0.99     59722\n",
      "\n",
      "    accuracy                           0.99    119560\n",
      "   macro avg       0.99      0.99      0.99    119560\n",
      "weighted avg       0.99      0.99      0.99    119560\n",
      "\n",
      "Cross-validated accuracy: 0.99\n"
     ]
    }
   ],
   "source": [
    "from sklearn.ensemble import RandomForestClassifier\n",
    "\n",
    "# Create a RandomForestClassifier object\n",
    "rf = RandomForestClassifier(n_estimators=100, random_state=0)\n",
    "\n",
    "# Train the model\n",
    "rf.fit(pixels_train_scaled, labels_train)\n",
    "\n",
    "# Predictions\n",
    "labels_pred_rf = rf.predict(pixels_test_scaled)\n",
    "\n",
    "# Confusion matrix of the model\n",
    "print(\"\\nConfusion Matrix:\\n\", confusion_matrix(labels_test, labels_pred_rf))\n",
    "\n",
    "# Classification report of the model\n",
    "print(\"\\nClassification Report:\\n\", classification_report(labels_test, labels_pred_rf))\n",
    "\n",
    "# Cross-validate the model\n",
    "scores_rf = cross_val_score(rf, pixels_train_scaled, labels_train, cv=5)\n",
    "print(f'Cross-validated accuracy: {scores_rf.mean():.2f}')"
   ]
  },
  {
   "cell_type": "code",
   "execution_count": 7,
   "id": "0866ac23-b949-4ef6-b43e-8f3a3aa1f663",
   "metadata": {},
   "outputs": [
    {
     "name": "stdout",
     "output_type": "stream",
     "text": [
      "AUC: 0.999416200271996\n"
     ]
    },
    {
     "data": {
      "image/png": "[encoded data removed]",
      "text/plain": [
       "<Figure size 640x480 with 1 Axes>"
      ]
     },
     "metadata": {},
     "output_type": "display_data"
    }
   ],
   "source": [
    "labels_pred_rf_prob = rf.predict_proba(pixels_test_scaled)\n",
    "\n",
    "fpr, tpr, thresholds = roc_curve(labels_test, labels_pred_rf_prob[:, 1])\n",
    "\n",
    "roc_auc = auc(fpr, tpr)\n",
    "print('AUC:', roc_auc)\n",
    "\n",
    "plt.figure()\n",
    "plt.plot(fpr, tpr, color='darkorange', lw=2, label='ROC curve (area = %0.2f)' % roc_auc)\n",
    "plt.plot([0, 1], [0, 1], color='navy', lw=2, linestyle='--')\n",
    "plt.xlim([0.0, 1.0])\n",
    "plt.ylim([0.0, 1.05])\n",
    "plt.xlabel('False Positive Rate')\n",
    "plt.ylabel('True Positive Rate')\n",
    "plt.title('Receiver Operating Characteristic')\n",
    "plt.legend(loc=\"lower right\")\n",
    "plt.show()"
   ]
  },
  {
   "cell_type": "code",
   "execution_count": 9,
   "id": "da258325-b007-4a9a-9f3e-caa8a10779ef",
   "metadata": {},
   "outputs": [],
   "source": [
    "with open('random_forest_5.pkl', 'wb') as f:\n",
    "    pickle.dump(rf, f)\n",
    "\n",
    "with open('scaler_5.pkl', 'wb') as f:\n",
    "    pickle.dump(scaler, f)"
   ]
  },
  {
   "cell_type": "code",
   "execution_count": null,
   "id": "d1609900-cc57-4db3-bc70-bb6bd37a531f",
   "metadata": {},
   "outputs": [],
   "source": []
  }
 ],
 "metadata": {
  "kernelspec": {
   "display_name": "Python 3 (ipykernel)",
   "language": "python",
   "name": "python3"
  },
  "language_info": {
   "codemirror_mode": {
    "name": "ipython",
    "version": 3
   },
   "file_extension": ".py",
   "mimetype": "text/x-python",
   "name": "python",
   "nbconvert_exporter": "python",
   "pygments_lexer": "ipython3",
   "version": "3.8.16"
  }
 },
 "nbformat": 4,
 "nbformat_minor": 5
}
